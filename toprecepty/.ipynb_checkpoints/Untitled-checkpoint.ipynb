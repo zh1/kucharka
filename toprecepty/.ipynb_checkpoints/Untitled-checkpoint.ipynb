{
 "cells": [
  {
   "cell_type": "code",
   "execution_count": 7,
   "id": "dfcde06f",
   "metadata": {},
   "outputs": [
    {
     "name": "stdout",
     "output_type": "stream",
     "text": [
      "              author  recipe_id               date   \n",
      "0     Marie Svarcova          1    před 4 hodinami  \\\n",
      "1            RubyRom          1    před 4 hodinami   \n",
      "2     Marie Svarcova          1    před 4 hodinami   \n",
      "3             Moanka          1    před 5 hodinami   \n",
      "4     Marie Svarcova          1    před 5 hodinami   \n",
      "..               ...        ...                ...   \n",
      "92            Věrka.          1  4. 11. 2009 18:24   \n",
      "93           shineon          1  4. 11. 2009 16:54   \n",
      "94  Simona Skolakova          1  4. 11. 2009 13:09   \n",
      "95            ruzena          1  4. 11. 2009 13:07   \n",
      "96          spagetka          1  4. 11. 2009 13:03   \n",
      "\n",
      "                                                 text  \n",
      "0   RubyRom:  děkuji za hezký komentář a přeji krá...  \n",
      "1   Moc hezké, rolády dělám na různé způsoby, ale ...  \n",
      "2   Moanka: moc děkuji za milá slova a přeji krásn...  \n",
      "3                   Mňam. 😋 A jak krásně to vypadá… 👌  \n",
      "4   zdenka.s:  Zdeničko, moc děkuji za komentář  -...  \n",
      "..                                                ...  \n",
      "92  Vloni jsem si koupila formu na laskonky, tak t...  \n",
      "93  Tak tohle dávám k oblíbeným, chci letos péct z...  \n",
      "94  Cathleen,Špagi díky - to je pomalu asi 22 vaje...  \n",
      "95                Určitě vyzkouším,štafetky máme rádi  \n",
      "96  Ještě k té váze - záleží na velikosti a druhu ...  \n",
      "\n",
      "[97 rows x 4 columns]\n"
     ]
    }
   ],
   "source": [
    "import pandas\n",
    "\n",
    "df = pandas.read_csv(r'C:\\zhasek\\repo\\kucharka\\toprecepty\\data\\comment0.csv')\n",
    "\n",
    "df"
   ]
  },
  {
   "cell_type": "code",
   "execution_count": null,
   "id": "8114612a",
   "metadata": {},
   "outputs": [],
   "source": []
  }
 ],
 "metadata": {
  "kernelspec": {
   "display_name": "Python 3 (ipykernel)",
   "language": "python",
   "name": "python3"
  },
  "language_info": {
   "codemirror_mode": {
    "name": "ipython",
    "version": 3
   },
   "file_extension": ".py",
   "mimetype": "text/x-python",
   "name": "python",
   "nbconvert_exporter": "python",
   "pygments_lexer": "ipython3",
   "version": "3.10.10"
  }
 },
 "nbformat": 4,
 "nbformat_minor": 5
}
